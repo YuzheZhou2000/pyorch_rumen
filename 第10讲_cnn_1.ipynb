{
 "cells": [
  {
   "cell_type": "markdown",
   "metadata": {},
   "source": [
    "## 初步认识CNN网络"
   ]
  },
  {
   "cell_type": "code",
   "execution_count": 16,
   "metadata": {},
   "outputs": [],
   "source": [
    "# 导入依赖包\n",
    "import torch\n",
    "import torch.nn.functional as F\n",
    "from torchvision import transforms\n",
    "from torchvision import datasets\n",
    "from torch.utils.data import DataLoader\n",
    "import torch.optim as optim\n",
    "import matplotlib.pyplot as plt\n",
    "import cv2\n",
    "import numpy as np"
   ]
  },
  {
   "cell_type": "code",
   "execution_count": 17,
   "metadata": {},
   "outputs": [],
   "source": [
    "# 设置基本参数\n",
    "# 每个卷积核的通道数量等于输入通道的数量\n",
    "# 卷积核的总数和输出通道的数量保持一致 一般情况下使用奇数\n",
    "in_channels, out_channels= 5, 10\n",
    "width, height = 100, 100\n",
    "# 卷积核的宽和高 也可以是元组\n",
    "kernel_size = 3\n",
    "batch_size = 1"
   ]
  },
  {
   "cell_type": "code",
   "execution_count": 18,
   "metadata": {},
   "outputs": [],
   "source": [
    "# 创建基本输入\n",
    "input = torch.randn(batch_size,\n",
    "    in_channels,\n",
    "    width, \n",
    "    height)"
   ]
  },
  {
   "cell_type": "code",
   "execution_count": 19,
   "metadata": {},
   "outputs": [],
   "source": [
    "# 创建一层网络\n",
    "conv_layer = torch.nn.Conv2d(in_channels,\n",
    "    out_channels,\n",
    "    kernel_size=kernel_size)"
   ]
  },
  {
   "cell_type": "code",
   "execution_count": 20,
   "metadata": {},
   "outputs": [],
   "source": [
    "# 计算\n",
    "output = conv_layer(input)"
   ]
  },
  {
   "cell_type": "code",
   "execution_count": 21,
   "metadata": {},
   "outputs": [
    {
     "name": "stdout",
     "output_type": "stream",
     "text": [
      "torch.Size([1, 5, 100, 100])\n",
      "torch.Size([1, 10, 98, 98])\n",
      "torch.Size([10, 5, 3, 3])\n"
     ]
    }
   ],
   "source": [
    "print(input.shape)\n",
    "print(output.shape)\n",
    "print(conv_layer.weight.shape)\n"
   ]
  },
  {
   "cell_type": "markdown",
   "metadata": {},
   "source": [
    "## 使用padding 和 步长 对卷积层进行处理\n"
   ]
  },
  {
   "cell_type": "code",
   "execution_count": 22,
   "metadata": {},
   "outputs": [],
   "source": [
    "# 初始数据\n",
    "input2 = [3,4,6,5,7,2,4,6,8,2,1,6,7,8,4,9,7,4,6,2,3,7,5,4,1]"
   ]
  },
  {
   "cell_type": "code",
   "execution_count": 23,
   "metadata": {},
   "outputs": [],
   "source": [
    "# 调整数据维度\n",
    "input2 = torch.Tensor(input2).view(1, 1, 5, 5)"
   ]
  },
  {
   "cell_type": "code",
   "execution_count": 24,
   "metadata": {},
   "outputs": [],
   "source": [
    "# 对卷积网络增加padding\n",
    "conv_layer_pad = torch.nn.Conv2d(1, 1, kernel_size=3, padding=1, bias=False)"
   ]
  },
  {
   "cell_type": "code",
   "execution_count": 25,
   "metadata": {},
   "outputs": [],
   "source": [
    "# 为了方便查看计算结果，手动设置卷积核\n",
    "kernel = torch.Tensor([1,2,3,4,5,6,7,8,9]).view(1, 1, 3, 3)\n",
    "conv_layer_pad.weight.data = kernel.data"
   ]
  },
  {
   "cell_type": "code",
   "execution_count": 26,
   "metadata": {},
   "outputs": [],
   "source": [
    "output2 = conv_layer_pad(input2)"
   ]
  },
  {
   "cell_type": "code",
   "execution_count": 27,
   "metadata": {},
   "outputs": [
    {
     "data": {
      "text/plain": [
       "tensor([[[[ 91., 168., 224., 215., 127.],\n",
       "          [114., 211., 295., 262., 149.],\n",
       "          [192., 259., 282., 214., 122.],\n",
       "          [194., 251., 253., 169.,  86.],\n",
       "          [ 96., 112., 110.,  68.,  31.]]]], grad_fn=<ThnnConv2DBackward>)"
      ]
     },
     "execution_count": 27,
     "metadata": {},
     "output_type": "execute_result"
    }
   ],
   "source": [
    "output2"
   ]
  },
  {
   "cell_type": "code",
   "execution_count": 28,
   "metadata": {},
   "outputs": [],
   "source": [
    "# 设置步长和内核\n",
    "conv_layer_3 = torch.nn.Conv2d(1, 1, kernel_size=3, stride=2, bias=False)\n",
    "kernel = torch.Tensor([1,2,3,4,5,6,7,8,9]).view(1, 1, 3, 3)\n",
    "conv_layer_3.weight.data = kernel.data\n"
   ]
  },
  {
   "cell_type": "code",
   "execution_count": 29,
   "metadata": {},
   "outputs": [
    {
     "name": "stdout",
     "output_type": "stream",
     "text": [
      "tensor([[[[211., 262.],\n",
      "          [251., 169.]]]], grad_fn=<ThnnConv2DBackward>)\n"
     ]
    }
   ],
   "source": [
    "output3 = conv_layer_3(input2)\n",
    "print(output3)"
   ]
  },
  {
   "cell_type": "markdown",
   "metadata": {},
   "source": [
    "## 搭建CNN的网络模型识别手写数字"
   ]
  },
  {
   "cell_type": "code",
   "execution_count": 30,
   "metadata": {},
   "outputs": [],
   "source": [
    "# 搭建基本的cnn网络\n",
    "class CnnNet(torch.nn.Module):\n",
    "    def __init__(self):\n",
    "      super(CnnNet,self).__init__()\n",
    "      # 两层卷积网络 1*28*28\n",
    "      self.conv1 = torch.nn.Conv2d(1,10,kernel_size=5)\n",
    "            \n",
    "      self.conv2 = torch.nn.Conv2d(10,20,kernel_size=5)\n",
    "      # 增加最大池化层 \n",
    "      self.pooling = torch.nn.MaxPool2d(2)\n",
    "      # 320 = 20*4*4\n",
    "      self.fc = torch.nn.Linear(320,10)\n",
    "    def forward(self, x):\n",
    "        # 首先拿到batch_size\n",
    "        batch_size = x.size(0)\n",
    "        # 开始前向传播 第一层卷积 + relu激活 + pool池化\n",
    "        x = F.relu(self.pooling(self.conv1(x)))\n",
    "        # 第二层卷积 + relu激活 + pool池化\n",
    "        x = F.relu(self.pooling(self.conv2(x)))\n",
    "        # 对数据进行展平\n",
    "        x = x.view(batch_size, -1) \n",
    "        # 使用全连接进行预测\n",
    "        x = self.fc(x)\n",
    "        return x"
   ]
  },
  {
   "cell_type": "code",
   "execution_count": 31,
   "metadata": {},
   "outputs": [],
   "source": [
    "# 实例化模型\n",
    "model = CnnNet()\n",
    "# 判断当前设备是不是用cuda\n",
    "device = torch.device(\"cuda:0\" if torch.cuda.is_available() else \"cpu\")"
   ]
  },
  {
   "cell_type": "code",
   "execution_count": 32,
   "metadata": {},
   "outputs": [],
   "source": [
    "# 模型训练函数\n",
    "def train(epoch):\n",
    "    running_loss = 0.0\n",
    "    for batch_idx, data in enumerate(train_loader, 0):\n",
    "        inputs, target = data    \n",
    "        optimizer.zero_grad()\n",
    "        # forward + backward + update\n",
    "        outputs = model(inputs)\n",
    "        loss = criterion(outputs, target)\n",
    "        loss.backward()\n",
    "        optimizer.step()\n",
    "        running_loss += loss.item()\n",
    "        if batch_idx % 300 == 299:\n",
    "            print('[%d, %5d] loss: %.3f' % (epoch + 1, batch_idx + 1, running_loss / 2000))\n",
    "            running_loss = 0.0\n"
   ]
  },
  {
   "cell_type": "code",
   "execution_count": 33,
   "metadata": {},
   "outputs": [],
   "source": [
    "def test():\n",
    "    correct = 0\n",
    "    total = 0\n",
    "    with torch.no_grad():\n",
    "        for data in test_loader:\n",
    "            inputs, target = data\n",
    "            outputs = model(inputs)\n",
    "            _, predicted = torch.max(outputs.data, dim=1)\n",
    "            total += target.size(0)\n",
    "            correct += (predicted == target).sum().item()\n",
    "        print('Accuracy on test set: %d %% [%d/%d]' % (100 * correct / total, correct, total))"
   ]
  },
  {
   "cell_type": "code",
   "execution_count": 34,
   "metadata": {},
   "outputs": [],
   "source": [
    "batch_size = 64\n",
    "transform = transforms.Compose([transforms.ToTensor(),transforms.Normalize((0.1307, ), (0.3081, ))])\n",
    "train_dataset = datasets.MNIST(root='../dataset/mnist/',train=True,download=True,transform=transform)\n",
    "train_loader = DataLoader(train_dataset,shuffle=True,batch_size=batch_size)\n",
    "test_dataset = datasets.MNIST(root='../dataset/mnist/',train=False,download=True,transform=transform)\n",
    "test_loader = DataLoader(test_dataset,shuffle=False,batch_size=batch_size)\n"
   ]
  },
  {
   "cell_type": "code",
   "execution_count": 35,
   "metadata": {},
   "outputs": [],
   "source": [
    "criterion = torch.nn.CrossEntropyLoss()\n",
    "optimizer = optim.SGD(model.parameters(), lr=0.01, momentum=0.5)"
   ]
  },
  {
   "cell_type": "code",
   "execution_count": 36,
   "metadata": {},
   "outputs": [
    {
     "name": "stdout",
     "output_type": "stream",
     "text": [
      "[1,   300] loss: 0.094\n",
      "[1,   600] loss: 0.028\n",
      "[1,   900] loss: 0.022\n",
      "Accuracy on test set: 96 % [9640/10000]\n",
      "[2,   300] loss: 0.017\n",
      "[2,   600] loss: 0.014\n",
      "[2,   900] loss: 0.013\n",
      "Accuracy on test set: 97 % [9764/10000]\n",
      "[3,   300] loss: 0.012\n",
      "[3,   600] loss: 0.011\n",
      "[3,   900] loss: 0.010\n",
      "Accuracy on test set: 98 % [9809/10000]\n",
      "[4,   300] loss: 0.010\n",
      "[4,   600] loss: 0.009\n",
      "[4,   900] loss: 0.009\n",
      "Accuracy on test set: 98 % [9838/10000]\n",
      "[5,   300] loss: 0.008\n",
      "[5,   600] loss: 0.008\n",
      "[5,   900] loss: 0.008\n",
      "Accuracy on test set: 98 % [9856/10000]\n",
      "[6,   300] loss: 0.007\n",
      "[6,   600] loss: 0.007\n",
      "[6,   900] loss: 0.007\n",
      "Accuracy on test set: 98 % [9867/10000]\n",
      "[7,   300] loss: 0.007\n",
      "[7,   600] loss: 0.006\n",
      "[7,   900] loss: 0.007\n",
      "Accuracy on test set: 98 % [9865/10000]\n",
      "[8,   300] loss: 0.006\n",
      "[8,   600] loss: 0.007\n",
      "[8,   900] loss: 0.006\n",
      "Accuracy on test set: 98 % [9836/10000]\n",
      "[9,   300] loss: 0.005\n",
      "[9,   600] loss: 0.006\n",
      "[9,   900] loss: 0.006\n",
      "Accuracy on test set: 98 % [9872/10000]\n",
      "[10,   300] loss: 0.005\n",
      "[10,   600] loss: 0.005\n",
      "[10,   900] loss: 0.006\n",
      "Accuracy on test set: 98 % [9864/10000]\n"
     ]
    }
   ],
   "source": [
    "if __name__ == '__main__':\n",
    "    for epoch in range(10):\n",
    "        train(epoch)\n",
    "        test()"
   ]
  },
  {
   "cell_type": "markdown",
   "metadata": {},
   "source": [
    "#### 自己创建数据对模型进行预测"
   ]
  },
  {
   "cell_type": "code",
   "execution_count": 37,
   "metadata": {},
   "outputs": [
    {
     "ename": "TypeError",
     "evalue": "mean() received an invalid combination of arguments - got (axis=NoneType, dtype=NoneType, out=NoneType, ), but expected one of:\n * (*, torch.dtype dtype)\n * (tuple of names dim, bool keepdim, *, torch.dtype dtype)\n * (tuple of ints dim, bool keepdim, *, torch.dtype dtype)\n",
     "output_type": "error",
     "traceback": [
      "\u001b[1;31m---------------------------------------------------------------------------\u001b[0m",
      "\u001b[1;31mTypeError\u001b[0m                                 Traceback (most recent call last)",
      "\u001b[1;32m<ipython-input-37-5a1631332e38>\u001b[0m in \u001b[0;36m<module>\u001b[1;34m\u001b[0m\n\u001b[0;32m     19\u001b[0m         \u001b[0mlenna_gray\u001b[0m\u001b[1;33m[\u001b[0m\u001b[0mr\u001b[0m\u001b[1;33m,\u001b[0m \u001b[0ml\u001b[0m\u001b[1;33m]\u001b[0m \u001b[1;33m=\u001b[0m \u001b[1;33m(\u001b[0m\u001b[1;36m0.11\u001b[0m \u001b[1;33m*\u001b[0m \u001b[0mspect\u001b[0m\u001b[1;33m[\u001b[0m\u001b[0mr\u001b[0m\u001b[1;33m,\u001b[0m \u001b[0ml\u001b[0m\u001b[1;33m,\u001b[0m \u001b[1;36m0\u001b[0m\u001b[1;33m]\u001b[0m \u001b[1;33m+\u001b[0m \u001b[1;36m0.59\u001b[0m \u001b[1;33m*\u001b[0m \u001b[0mspect\u001b[0m\u001b[1;33m[\u001b[0m\u001b[0mr\u001b[0m\u001b[1;33m,\u001b[0m \u001b[0ml\u001b[0m\u001b[1;33m,\u001b[0m \u001b[1;36m1\u001b[0m\u001b[1;33m]\u001b[0m \u001b[1;33m+\u001b[0m \u001b[1;36m0.3\u001b[0m \u001b[1;33m*\u001b[0m \u001b[0mspect\u001b[0m\u001b[1;33m[\u001b[0m\u001b[0mr\u001b[0m\u001b[1;33m,\u001b[0m \u001b[0ml\u001b[0m\u001b[1;33m,\u001b[0m \u001b[1;36m2\u001b[0m\u001b[1;33m]\u001b[0m\u001b[1;33m)\u001b[0m\u001b[1;33m/\u001b[0m\u001b[1;36m255\u001b[0m\u001b[1;33m*\u001b[0m\u001b[1;33m(\u001b[0m\u001b[1;33m-\u001b[0m\u001b[1;36m1\u001b[0m\u001b[1;33m)\u001b[0m\u001b[1;33m+\u001b[0m\u001b[1;36m0.5\u001b[0m\u001b[1;33m\u001b[0m\u001b[1;33m\u001b[0m\u001b[0m\n\u001b[0;32m     20\u001b[0m \u001b[1;31m# 标准化处理\u001b[0m\u001b[1;33m\u001b[0m\u001b[1;33m\u001b[0m\u001b[1;33m\u001b[0m\u001b[0m\n\u001b[1;32m---> 21\u001b[1;33m \u001b[0mlenna_gray\u001b[0m \u001b[1;33m=\u001b[0m \u001b[0mnormalize\u001b[0m\u001b[1;33m(\u001b[0m\u001b[0mlenna_gray\u001b[0m\u001b[1;33m=\u001b[0m\u001b[0mlenna_gray\u001b[0m\u001b[1;33m)\u001b[0m\u001b[1;33m\u001b[0m\u001b[1;33m\u001b[0m\u001b[0m\n\u001b[0m\u001b[0;32m     22\u001b[0m \u001b[1;31m# 28*28 -> 1*1*28*28\u001b[0m\u001b[1;33m\u001b[0m\u001b[1;33m\u001b[0m\u001b[1;33m\u001b[0m\u001b[0m\n\u001b[0;32m     23\u001b[0m \u001b[0minput_pic\u001b[0m \u001b[1;33m=\u001b[0m \u001b[0mlenna_gray\u001b[0m\u001b[1;33m.\u001b[0m\u001b[0munsqueeze\u001b[0m\u001b[1;33m(\u001b[0m\u001b[1;36m0\u001b[0m\u001b[1;33m)\u001b[0m\u001b[1;33m.\u001b[0m\u001b[0munsqueeze\u001b[0m\u001b[1;33m(\u001b[0m\u001b[1;36m0\u001b[0m\u001b[1;33m)\u001b[0m\u001b[1;33m\u001b[0m\u001b[1;33m\u001b[0m\u001b[0m\n",
      "\u001b[1;32m<ipython-input-37-5a1631332e38>\u001b[0m in \u001b[0;36mnormalize\u001b[1;34m(lenna_gray)\u001b[0m\n\u001b[0;32m      4\u001b[0m \u001b[1;32mdef\u001b[0m \u001b[0mnormalize\u001b[0m\u001b[1;33m(\u001b[0m\u001b[0mlenna_gray\u001b[0m\u001b[1;33m)\u001b[0m\u001b[1;33m:\u001b[0m\u001b[1;33m\u001b[0m\u001b[1;33m\u001b[0m\u001b[0m\n\u001b[0;32m      5\u001b[0m     \u001b[1;31m# 求矩阵的均值和方差\u001b[0m\u001b[1;33m\u001b[0m\u001b[1;33m\u001b[0m\u001b[1;33m\u001b[0m\u001b[0m\n\u001b[1;32m----> 6\u001b[1;33m     \u001b[0mmean_a\u001b[0m \u001b[1;33m=\u001b[0m \u001b[0mnp\u001b[0m\u001b[1;33m.\u001b[0m\u001b[0mmean\u001b[0m\u001b[1;33m(\u001b[0m\u001b[0mlenna_gray\u001b[0m\u001b[1;33m)\u001b[0m\u001b[1;33m\u001b[0m\u001b[1;33m\u001b[0m\u001b[0m\n\u001b[0m\u001b[0;32m      7\u001b[0m     \u001b[0mvar_a\u001b[0m \u001b[1;33m=\u001b[0m \u001b[0mnp\u001b[0m\u001b[1;33m.\u001b[0m\u001b[0mvar\u001b[0m\u001b[1;33m(\u001b[0m\u001b[0mlenna_gray\u001b[0m\u001b[1;33m)\u001b[0m\u001b[1;33m\u001b[0m\u001b[1;33m\u001b[0m\u001b[0m\n\u001b[0;32m      8\u001b[0m     \u001b[1;32mfor\u001b[0m \u001b[0mr\u001b[0m \u001b[1;32min\u001b[0m \u001b[0mrange\u001b[0m\u001b[1;33m(\u001b[0m\u001b[0mlenna_gray\u001b[0m\u001b[1;33m.\u001b[0m\u001b[0msize\u001b[0m\u001b[1;33m(\u001b[0m\u001b[1;36m0\u001b[0m\u001b[1;33m)\u001b[0m\u001b[1;33m)\u001b[0m\u001b[1;33m:\u001b[0m\u001b[1;33m\u001b[0m\u001b[1;33m\u001b[0m\u001b[0m\n",
      "\u001b[1;32m<__array_function__ internals>\u001b[0m in \u001b[0;36mmean\u001b[1;34m(*args, **kwargs)\u001b[0m\n",
      "\u001b[1;32m~\\.conda\\envs\\dlpython37\\lib\\site-packages\\numpy\\core\\fromnumeric.py\u001b[0m in \u001b[0;36mmean\u001b[1;34m(a, axis, dtype, out, keepdims)\u001b[0m\n\u001b[0;32m   3330\u001b[0m             \u001b[1;32mpass\u001b[0m\u001b[1;33m\u001b[0m\u001b[1;33m\u001b[0m\u001b[0m\n\u001b[0;32m   3331\u001b[0m         \u001b[1;32melse\u001b[0m\u001b[1;33m:\u001b[0m\u001b[1;33m\u001b[0m\u001b[1;33m\u001b[0m\u001b[0m\n\u001b[1;32m-> 3332\u001b[1;33m             \u001b[1;32mreturn\u001b[0m \u001b[0mmean\u001b[0m\u001b[1;33m(\u001b[0m\u001b[0maxis\u001b[0m\u001b[1;33m=\u001b[0m\u001b[0maxis\u001b[0m\u001b[1;33m,\u001b[0m \u001b[0mdtype\u001b[0m\u001b[1;33m=\u001b[0m\u001b[0mdtype\u001b[0m\u001b[1;33m,\u001b[0m \u001b[0mout\u001b[0m\u001b[1;33m=\u001b[0m\u001b[0mout\u001b[0m\u001b[1;33m,\u001b[0m \u001b[1;33m**\u001b[0m\u001b[0mkwargs\u001b[0m\u001b[1;33m)\u001b[0m\u001b[1;33m\u001b[0m\u001b[1;33m\u001b[0m\u001b[0m\n\u001b[0m\u001b[0;32m   3333\u001b[0m \u001b[1;33m\u001b[0m\u001b[0m\n\u001b[0;32m   3334\u001b[0m     return _methods._mean(a, axis=axis, dtype=dtype,\n",
      "\u001b[1;31mTypeError\u001b[0m: mean() received an invalid combination of arguments - got (axis=NoneType, dtype=NoneType, out=NoneType, ), but expected one of:\n * (*, torch.dtype dtype)\n * (tuple of names dim, bool keepdim, *, torch.dtype dtype)\n * (tuple of ints dim, bool keepdim, *, torch.dtype dtype)\n"
     ]
    }
   ],
   "source": [
    "# 读取图像\n",
    "\n",
    "# 对图像数据进行标准化处理\n",
    "def normalize(lenna_gray):\n",
    "    # 求矩阵的均值和方差\n",
    "    mean_a = np.mean(lenna_gray)\n",
    "    var_a = np.var(lenna_gray)\n",
    "    for r in range(lenna_gray.size(0)):\n",
    "        for l in range(lenna_gray.size(1)):\n",
    "            lenna_gray[r][l] = (lenna_gray[r][l]-mean_a)/var_a\n",
    "    return lenna_gray\n",
    "\n",
    "spect= cv2.imread('pic/1.png') # BGR\n",
    "spect= spect[:, :, ::-1] # RGB\n",
    "# RGB转化为单通道图像\n",
    "lenna_gray = torch.randn(28,28)\n",
    "for r in range(28):\n",
    "    for l in range(28):\n",
    "        lenna_gray[r, l] = (0.11 * spect[r, l, 0] + 0.59 * spect[r, l, 1] + 0.3 * spect[r, l, 2])\n",
    "# 标准化处理\n",
    "lenna_gray = normalize(lenna_gray=lenna_gray)\n",
    "# 28*28 -> 1*1*28*28\n",
    "input_pic = lenna_gray.unsqueeze(0).unsqueeze(0)"
   ]
  },
  {
   "cell_type": "code",
   "execution_count": null,
   "metadata": {},
   "outputs": [],
   "source": [
    "# 展示图像\n",
    "\n",
    "plt.imshow(input_pic[0][0])\n",
    "plt.show()"
   ]
  },
  {
   "cell_type": "code",
   "execution_count": null,
   "metadata": {},
   "outputs": [],
   "source": [
    "# 利用模型进行预测\n",
    "outputs = model(input_pic)\n",
    "\n",
    "_, predicted = torch.max(outputs.data, dim=1)\n",
    "print ('图像的预测值为：', predicted.item())"
   ]
  },
  {
   "cell_type": "code",
   "execution_count": 38,
   "metadata": {},
   "outputs": [],
   "source": [
    "def normalize(lenna_gray):\n",
    "    # 求矩阵的均值和方差\n",
    "    mean_a = np.mean(lenna_gray)\n",
    "    var_a = np.var(lenna_gray)\n",
    "    for r in range(lenna_gray.size(0)):\n",
    "        for l in range(lenna_gray.size(1)):\n",
    "            lenna_gray[r][l] = (lenna_gray[r][l]-mean_a)/var_a\n",
    "    return lenna_gray"
   ]
  },
  {
   "cell_type": "code",
   "execution_count": null,
   "metadata": {},
   "outputs": [],
   "source": []
  }
 ],
 "metadata": {
  "interpreter": {
   "hash": "bba41e528b9ae6ac3bca14918216a30fd62a7a5cc8cd4a9b2bafdbd58ed8824d"
  },
  "kernelspec": {
   "display_name": "Python 3.7.7 ('dlpython37')",
   "language": "python",
   "name": "python3"
  },
  "language_info": {
   "codemirror_mode": {
    "name": "ipython",
    "version": 3
   },
   "file_extension": ".py",
   "mimetype": "text/x-python",
   "name": "python",
   "nbconvert_exporter": "python",
   "pygments_lexer": "ipython3",
   "version": "3.7.7"
  },
  "orig_nbformat": 4
 },
 "nbformat": 4,
 "nbformat_minor": 2
}
